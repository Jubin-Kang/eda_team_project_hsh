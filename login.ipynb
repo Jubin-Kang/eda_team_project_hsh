from selenium.webdriver.chrome.service import Service
from selenium.webdriver.chrome.options import Options
from selenium import webdriver
from selenium.webdriver.common.by import By
from selenium.webdriver.common.action_chains import ActionChains
import time
from bs4 import BeautifulSoup
from urllib.request import urlopen
import pandas as pd
from glob import glob
from selenium.webdriver.common.keys import Keys

options= webdriver.ChromeOptions()

prefs={'download.default_directory':'/home/sang/dev_ws/eda/data',
       'download.prompt_for_download':False}
options.add_experimental_option('prefs',prefs)

#드라이버 주소는 각자 위치로 수정해야합니다
url='https://www.saramin.co.kr/zf_user/'
driver=webdriver.Chrome(service=Service('../driver/chromedriver/chromedriver'),
                        options=options)

driver.get(url)

driver.find_element(By.CLASS_NAME,'btn_sign.signin').click()

input_id=driver.find_element(By.ID,'id')
input_password=driver.find_element(By.ID,'password')
input_id.click()
input_id.send_keys('hinoonyaso')
input_password.send_keys('ns55904498!')

login=driver.find_element(By.CLASS_NAME,'btn_login.BtnType.SizeML').click()

driver.find_element(By.CLASS_NAME,'Lbl').click()
driver.find_element(By.CLASS_NAME,'btn_no_view.btn_layer_close').click()

driver.find_element(By.CLASS_NAME,'ci').click()

driver.find_element(By.CLASS_NAME,'btn_search').click()
search=driver.find_element(By.CSS_SELECTOR,'#ipt_keyword_recruit')
search.send_keys('로봇 SW 개발')
driver.find_element(By.ID,'btn_search_recruit').click()
company=driver.find_element(By.CSS_SELECTOR,'#content > ul.tab_search_result.on > li:nth-child(3) > a')
company.click()
