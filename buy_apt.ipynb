{
 "cells": [
  {
   "cell_type": "code",
   "execution_count": null,
   "metadata": {},
   "outputs": [
    {
     "name": "stderr",
     "output_type": "stream",
     "text": [
      "/home/moon/venv/eda_venv/lib/python3.10/site-packages/openpyxl/styles/stylesheet.py:237: UserWarning: Workbook contains no default style, apply openpyxl's default\n",
      "  warn(\"Workbook contains no default style, apply openpyxl's default\")\n",
      "/home/moon/venv/eda_venv/lib/python3.10/site-packages/openpyxl/styles/stylesheet.py:237: UserWarning: Workbook contains no default style, apply openpyxl's default\n",
      "  warn(\"Workbook contains no default style, apply openpyxl's default\")\n"
     ]
    },
    {
     "name": "stdout",
     "output_type": "stream",
     "text": [
      "테이블 (./data/아파트(매매)_경기하남.xlsx):\n",
      "                   거래금액(만원)\n",
      "건축년도 전용면적(㎡)               \n",
      "1994 84.8900   65881.250000\n",
      "     84.9650   65508.000000\n",
      "1995 84.8100   49144.444444\n",
      "     84.8900   65936.363636\n",
      "     84.9650   65017.391304\n",
      "...                     ...\n",
      "2021 84.9500  100990.909091\n",
      "     84.9853  108426.315789\n",
      "2022 84.6481  116150.000000\n",
      "2023 84.8934  105000.000000\n",
      "2024 84.8740  103000.000000\n",
      "\n",
      "[140 rows x 1 columns]\n",
      "\n",
      "\n"
     ]
    },
    {
     "name": "stderr",
     "output_type": "stream",
     "text": [
      "/home/moon/venv/eda_venv/lib/python3.10/site-packages/openpyxl/styles/stylesheet.py:237: UserWarning: Workbook contains no default style, apply openpyxl's default\n",
      "  warn(\"Workbook contains no default style, apply openpyxl's default\")\n",
      "/home/moon/venv/eda_venv/lib/python3.10/site-packages/openpyxl/styles/stylesheet.py:237: UserWarning: Workbook contains no default style, apply openpyxl's default\n",
      "  warn(\"Workbook contains no default style, apply openpyxl's default\")\n"
     ]
    },
    {
     "name": "stdout",
     "output_type": "stream",
     "text": [
      "테이블 (./data/아파트(매매)_경기광주.xlsx):\n",
      "                  거래금액(만원)\n",
      "건축년도 전용면적(㎡)              \n",
      "1994 83.2500  34000.000000\n",
      "     84.8700  31500.000000\n",
      "1995 84.3120  27000.000000\n",
      "1996 84.9100  32800.000000\n",
      "1998 84.9700  29914.285714\n",
      "...                    ...\n",
      "2024 64.8587  42679.000000\n",
      "     84.4041  50416.000000\n",
      "     84.9436  54500.666667\n",
      "     84.9658  64000.000000\n",
      "     84.9927  66500.000000\n",
      "\n",
      "[178 rows x 1 columns]\n",
      "\n",
      "\n"
     ]
    },
    {
     "name": "stderr",
     "output_type": "stream",
     "text": [
      "/home/moon/venv/eda_venv/lib/python3.10/site-packages/openpyxl/styles/stylesheet.py:237: UserWarning: Workbook contains no default style, apply openpyxl's default\n",
      "  warn(\"Workbook contains no default style, apply openpyxl's default\")\n"
     ]
    },
    {
     "name": "stdout",
     "output_type": "stream",
     "text": [
      "용인 concat 기흥구 수지구 허인구 :\n",
      "              거래금액(만원)\n",
      "건축년도 전용면적(㎡)          \n",
      "1979 63.0800   14250.0\n",
      "1987 62.4600   10500.0\n",
      "1988 60.5700   14300.0\n",
      "     70.6500   21900.0\n",
      "     74.9300   20000.0\n",
      "...                ...\n",
      "2024 75.9810   43000.0\n",
      "     84.5139   64000.0\n",
      "     84.8409   52552.0\n",
      "     84.8501   45000.0\n",
      "     84.9156   40000.0\n",
      "\n",
      "[578 rows x 1 columns]\n"
     ]
    }
   ],
   "source": [
    "# read apt info from excel file \n",
    "import pandas as pd \n",
    "import numpy as np \n",
    "import glob \n",
    "\n",
    "file_paths = glob.glob(\"./data/아파트(매매)_경기*.xlsx\")\n",
    "\n",
    "yongin_df = pd.DataFrame() # dataFrame for 여러 구가 포함된 시\n",
    "\n",
    "for file_path in file_paths:\n",
    "    df = pd.read_excel(file_path, skiprows=12)\n",
    "    \n",
    "    # string to float \n",
    "    df['거래금액(만원)'] = df['거래금액(만원)'].replace(',', '', regex=True).astype(float)\n",
    "    \n",
    "    if '용인' in file_path:\n",
    "        yongin_df = pd.concat([yongin_df, df], ignore_index=True)\n",
    "    \n",
    "    else:\n",
    "        pivot_df = pd.pivot_table(\n",
    "            data=df,\n",
    "            index=['건축년도', '전용면적(㎡)'],\n",
    "            values='거래금액(만원)',\n",
    "            aggfunc='mean'\n",
    "        )\n",
    "        # debugging \n",
    "        print(f\"테이블 ({file_path}):\")\n",
    "        print(pivot_df)\n",
    "        print(\"\\n\")\n",
    "\n",
    "# 용인 관련 파일들만 합친 피벗 테이블 생성\n",
    "if not yongin_df.empty:\n",
    "    yongin_pivot = pd.pivot_table(\n",
    "        data=yongin_df,\n",
    "        index=['건축년도', '전용면적(㎡)'],\n",
    "        values='거래금액(만원)',\n",
    "        aggfunc='mean'\n",
    "    )\n",
    "    print(\"용인 concat 기흥구 수지구 허인구 :\")\n",
    "    print(yongin_pivot)\n",
    "else:\n",
    "    print(\"용인 files 없음 \")\n"
   ]
  }
 ],
 "metadata": {
  "kernelspec": {
   "display_name": "eda_venv",
   "language": "python",
   "name": "python3"
  },
  "language_info": {
   "codemirror_mode": {
    "name": "ipython",
    "version": 3
   },
   "file_extension": ".py",
   "mimetype": "text/x-python",
   "name": "python",
   "nbconvert_exporter": "python",
   "pygments_lexer": "ipython3",
   "version": "3.10.12"
  }
 },
 "nbformat": 4,
 "nbformat_minor": 2
}
